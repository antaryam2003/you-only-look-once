{
  "metadata": {
    "kernelspec": {
      "language": "python",
      "display_name": "Python 3",
      "name": "python3"
    },
    "language_info": {
      "pygments_lexer": "ipython3",
      "nbconvert_exporter": "python",
      "version": "3.6.4",
      "file_extension": ".py",
      "codemirror_mode": {
        "name": "ipython",
        "version": 3
      },
      "name": "python",
      "mimetype": "text/x-python"
    },
    "colab": {
      "provenance": []
    }
  },
  "nbformat_minor": 0,
  "nbformat": 4,
  "cells": [
    {
      "cell_type": "markdown",
      "source": [
        "# 1. Introduction\n"
      ],
      "metadata": {
        "id": "3k1Txf1vp1nV"
      }
    },
    {
      "cell_type": "markdown",
      "source": [
        "**Import all Necessary Libraries**"
      ],
      "metadata": {
        "_uuid": "7ed04b1e7a00a7ad31ee98a7d8e55880e6274f29",
        "id": "NIyoa1bYp1nW"
      }
    },
    {
      "cell_type": "code",
      "source": [
        "import pandas as pd\n",
        "import numpy as np\n",
        "\n",
        "import matplotlib.pyplot as plt\n",
        "import seaborn as sns\n",
        "\n",
        "from sklearn.model_selection import train_test_split\n",
        "from sklearn.metrics import confusion_matrix\n",
        "\n",
        "import keras\n",
        "from keras.models import Sequential\n",
        "from keras.layers import Conv2D, Lambda, MaxPooling2D # convolution layers\n",
        "from keras.layers import Dense, Dropout, Flatten # core layers\n",
        "from tensorflow.keras.layers import BatchNormalization\n",
        "from tensorflow.keras.preprocessing.image import ImageDataGenerator\n",
        "\n",
        "from tensorflow.keras.utils import to_categorical"
      ],
      "metadata": {
        "_uuid": "0f935bddcc5ca02702578e712bf7f396ba7154ef",
        "execution": {
          "iopub.status.busy": "2023-05-30T13:35:07.139049Z",
          "iopub.execute_input": "2023-05-30T13:35:07.139351Z",
          "iopub.status.idle": "2023-05-30T13:35:09.390491Z",
          "shell.execute_reply.started": "2023-05-30T13:35:07.139296Z",
          "shell.execute_reply": "2023-05-30T13:35:09.389583Z"
        },
        "trusted": true,
        "id": "b39kNGuGp1nW"
      },
      "execution_count": null,
      "outputs": []
    },
    {
      "cell_type": "markdown",
      "source": [
        "# 2. Data preparation\n",
        "## 2.1 Load data"
      ],
      "metadata": {
        "_uuid": "f94870f1682c45b0e4ea378d287302656af3cf8e",
        "id": "g2jNt52Rp1nY"
      }
    },
    {
      "cell_type": "code",
      "source": [
        "train = pd.read_csv('train.csv')\n",
        "test = pd.read_csv('test.csv')\n",
        "sub = pd.read_csv('sample_submission.csv')"
      ],
      "metadata": {
        "execution": {
          "iopub.status.busy": "2023-05-30T13:36:27.341562Z",
          "iopub.execute_input": "2023-05-30T13:36:27.341895Z",
          "iopub.status.idle": "2023-05-30T13:36:33.751175Z",
          "shell.execute_reply.started": "2023-05-30T13:36:27.341836Z",
          "shell.execute_reply": "2023-05-30T13:36:33.750294Z"
        },
        "trusted": true,
        "id": "jAUEqeo_p1nY"
      },
      "execution_count": null,
      "outputs": []
    },
    {
      "cell_type": "code",
      "source": [
        "print(f\"Training data size is {train.shape}\\nTesting data size is {test.shape}\")"
      ],
      "metadata": {
        "execution": {
          "iopub.status.busy": "2023-05-30T13:36:37.017930Z",
          "iopub.execute_input": "2023-05-30T13:36:37.018285Z",
          "iopub.status.idle": "2023-05-30T13:36:37.024349Z",
          "shell.execute_reply.started": "2023-05-30T13:36:37.018227Z",
          "shell.execute_reply": "2023-05-30T13:36:37.023155Z"
        },
        "trusted": true,
        "id": "O5mhCTJip1nY",
        "colab": {
          "base_uri": "https://localhost:8080/"
        },
        "outputId": "503d88ca-88c6-4604-f05c-63ff9878ad4c"
      },
      "execution_count": null,
      "outputs": [
        {
          "output_type": "stream",
          "name": "stdout",
          "text": [
            "Training data size is (42000, 785)\n",
            "Testing data size is (28000, 784)\n"
          ]
        }
      ]
    },
    {
      "cell_type": "markdown",
      "source": [
        "**Set data features and labels**"
      ],
      "metadata": {
        "id": "vT3sQM35p1nY"
      }
    },
    {
      "cell_type": "code",
      "source": [
        "X = train.drop(['label'], axis=1).values\n",
        "y = train['label'].values"
      ],
      "metadata": {
        "execution": {
          "iopub.status.busy": "2023-05-30T13:36:39.661470Z",
          "iopub.execute_input": "2023-05-30T13:36:39.661876Z",
          "iopub.status.idle": "2023-05-30T13:36:39.853976Z",
          "shell.execute_reply.started": "2023-05-30T13:36:39.661806Z",
          "shell.execute_reply": "2023-05-30T13:36:39.852421Z"
        },
        "trusted": true,
        "id": "LzzT0HzSp1nZ"
      },
      "execution_count": null,
      "outputs": []
    },
    {
      "cell_type": "markdown",
      "source": [
        "## 2.2 Normalization"
      ],
      "metadata": {
        "id": "wN8OzFUpp1nZ"
      }
    },
    {
      "cell_type": "markdown",
      "source": [
        "The activation values of X range from 0 to 255.\n",
        "Normalize them to have a range of 0 to 1\n",
        "\n"
      ],
      "metadata": {
        "id": "cSLENzq6p1nZ"
      }
    },
    {
      "cell_type": "code",
      "source": [
        "from sklearn.metrics.cluster import normalized_mutual_info_score\n",
        "from sklearn.preprocessing import MinMaxScaler\n",
        "\n",
        "scaler = MinMaxScaler()\n",
        "normalized_data = scaler.fit_transform(X)\n",
        "\n",
        "normalized_data"
      ],
      "metadata": {
        "execution": {
          "iopub.status.busy": "2023-05-30T13:36:43.087276Z",
          "iopub.execute_input": "2023-05-30T13:36:43.087586Z",
          "iopub.status.idle": "2023-05-30T13:36:43.327014Z",
          "shell.execute_reply.started": "2023-05-30T13:36:43.087534Z",
          "shell.execute_reply": "2023-05-30T13:36:43.326084Z"
        },
        "trusted": true,
        "id": "I_ohF5YMp1na",
        "colab": {
          "base_uri": "https://localhost:8080/"
        },
        "outputId": "079779c7-01cd-4470-c606-f58c0a30705e"
      },
      "execution_count": null,
      "outputs": [
        {
          "output_type": "execute_result",
          "data": {
            "text/plain": [
              "array([[0., 0., 0., ..., 0., 0., 0.],\n",
              "       [0., 0., 0., ..., 0., 0., 0.],\n",
              "       [0., 0., 0., ..., 0., 0., 0.],\n",
              "       ...,\n",
              "       [0., 0., 0., ..., 0., 0., 0.],\n",
              "       [0., 0., 0., ..., 0., 0., 0.],\n",
              "       [0., 0., 0., ..., 0., 0., 0.]])"
            ]
          },
          "metadata": {},
          "execution_count": 5
        }
      ]
    },
    {
      "cell_type": "markdown",
      "source": [
        "## 2.3 Reshape\n",
        "\n",
        "> Indented block\n",
        "\n",
        "> Indented block\n",
        "\n",
        "\n",
        "\n"
      ],
      "metadata": {
        "id": "BmRMh_2bp1na"
      }
    },
    {
      "cell_type": "code",
      "source": [
        "# Reshape image in 3 dimensions (height = 28px, width = 28px , canal = 1)\n",
        "# canal = 1 => For gray scale\n",
        "# current X.shape = (42000, 28, 28, 3)\n",
        "# desired X.shape = (42000, 28, 28, 1)\n",
        "X = X.reshape(42000, 28, 28, 1)\n",
        "X.shape"
      ],
      "metadata": {
        "execution": {
          "iopub.status.busy": "2023-05-30T13:36:44.643672Z",
          "iopub.execute_input": "2023-05-30T13:36:44.643985Z",
          "iopub.status.idle": "2023-05-30T13:36:44.648329Z",
          "shell.execute_reply.started": "2023-05-30T13:36:44.643928Z",
          "shell.execute_reply": "2023-05-30T13:36:44.647270Z"
        },
        "trusted": true,
        "id": "SeA3Saobp1na",
        "colab": {
          "base_uri": "https://localhost:8080/"
        },
        "outputId": "d4376a26-247f-43a6-c031-d51000b0493c"
      },
      "execution_count": null,
      "outputs": [
        {
          "output_type": "execute_result",
          "data": {
            "text/plain": [
              "(42000, 28, 28, 1)"
            ]
          },
          "metadata": {},
          "execution_count": 6
        }
      ]
    },
    {
      "cell_type": "markdown",
      "source": [
        "## 2.4 Label encoding"
      ],
      "metadata": {
        "id": "2EOA8NLfp1na"
      }
    },
    {
      "cell_type": "markdown",
      "source": [
        "**One-Hot Encoding**"
      ],
      "metadata": {
        "id": "gWkiXWp4p1na"
      }
    },
    {
      "cell_type": "code",
      "source": [
        "# Encode labels to one hot vectors (ex : 2 -> [0,0,1,0,0,0,0,0,0,0])\n",
        "y = to_categorical(y) # You should use Keras to do this\n",
        "# previous y.shape = (42000, 1)\n",
        "print(f\"Label size {y.shape}\")"
      ],
      "metadata": {
        "execution": {
          "iopub.status.busy": "2023-05-30T13:36:46.972062Z",
          "iopub.execute_input": "2023-05-30T13:36:46.972388Z",
          "iopub.status.idle": "2023-05-30T13:36:46.978845Z",
          "shell.execute_reply.started": "2023-05-30T13:36:46.972334Z",
          "shell.execute_reply": "2023-05-30T13:36:46.978045Z"
        },
        "trusted": true,
        "id": "1zsH-tgCp1nb",
        "colab": {
          "base_uri": "https://localhost:8080/"
        },
        "outputId": "ceba7460-d7ee-4771-f553-8bda211229e4"
      },
      "execution_count": null,
      "outputs": [
        {
          "output_type": "stream",
          "name": "stdout",
          "text": [
            "Label size (42000, 10)\n"
          ]
        }
      ]
    },
    {
      "cell_type": "markdown",
      "source": [
        "Labels are 10 digits numbers from 0 to 9. We need to encode these lables to one hot vectors (ex : 2 -> [0,0,1,0,0,0,0,0,0,0])."
      ],
      "metadata": {
        "id": "GW1ekuA8p1nb"
      }
    },
    {
      "cell_type": "markdown",
      "source": [
        "## 2.5 Split training and valdiation set"
      ],
      "metadata": {
        "id": "ZR4kfsiDp1nb"
      }
    },
    {
      "cell_type": "code",
      "source": [
        "# Split the train and the validation set for the fitting\n",
        "# Decide the val_size and read more about random_state https://stackoverflow.com/questions/28064634/random-state-pseudo-random-number-in-scikit-learn\n",
        "X_train, X_val, y_train, y_val = train_test_split(X, y, test_size=0.1, random_state=0)"
      ],
      "metadata": {
        "execution": {
          "iopub.status.busy": "2023-05-30T13:36:50.039409Z",
          "iopub.execute_input": "2023-05-30T13:36:50.039730Z",
          "iopub.status.idle": "2023-05-30T13:36:50.699979Z",
          "shell.execute_reply.started": "2023-05-30T13:36:50.039673Z",
          "shell.execute_reply": "2023-05-30T13:36:50.699165Z"
        },
        "trusted": true,
        "id": "T7n4h2pDp1nb"
      },
      "execution_count": null,
      "outputs": []
    },
    {
      "cell_type": "code",
      "source": [
        "X_train.shape, X_val.shape, y_train.shape, y_val.shape # Can you explain these numbers based on the val_size that you set?"
      ],
      "metadata": {
        "execution": {
          "iopub.status.busy": "2023-05-30T13:36:51.760318Z",
          "iopub.execute_input": "2023-05-30T13:36:51.760629Z",
          "iopub.status.idle": "2023-05-30T13:36:51.768123Z",
          "shell.execute_reply.started": "2023-05-30T13:36:51.760573Z",
          "shell.execute_reply": "2023-05-30T13:36:51.767266Z"
        },
        "trusted": true,
        "id": "6E2OBaWdp1nb",
        "colab": {
          "base_uri": "https://localhost:8080/"
        },
        "outputId": "1e441d0b-18ae-41ea-f9fe-3cf25856ef20"
      },
      "execution_count": null,
      "outputs": [
        {
          "output_type": "execute_result",
          "data": {
            "text/plain": [
              "((37800, 28, 28, 1), (4200, 28, 28, 1), (37800, 10), (4200, 10))"
            ]
          },
          "metadata": {},
          "execution_count": 9
        }
      ]
    },
    {
      "cell_type": "markdown",
      "source": [
        "I choosed to split the train set in two parts : a small fraction (10%) became the validation set which the model is evaluated and the rest (90%) is used to train the model."
      ],
      "metadata": {
        "id": "N3mPRO2op1nc"
      }
    },
    {
      "cell_type": "markdown",
      "source": [
        "**Data Visualization**"
      ],
      "metadata": {
        "_uuid": "d9f73cd8890cc89d03837ef47210b27b94b156dc",
        "id": "5NjgI5nFp1nc"
      }
    },
    {
      "cell_type": "code",
      "source": [
        "X_train__ = X_train.reshape(X_train.shape[0], 28, 28)\n",
        "\n",
        "fig, axis = plt.subplots(1, 4, figsize=(20, 10))\n",
        "for i, ax in enumerate(axis.flat):\n",
        "    ax.imshow(X_train__[i], cmap='binary')\n",
        "    digit = y_train[i].argmax()\n",
        "    ax.set(title = f\"Real Number is {digit}\");"
      ],
      "metadata": {
        "_uuid": "d00d9b96668d11a33c272b2b64cbb4397dcbba89",
        "scrolled": true,
        "execution": {
          "iopub.status.busy": "2023-05-30T13:36:54.243937Z",
          "iopub.execute_input": "2023-05-30T13:36:54.244302Z",
          "iopub.status.idle": "2023-05-30T13:36:55.235756Z",
          "shell.execute_reply.started": "2023-05-30T13:36:54.244244Z",
          "shell.execute_reply": "2023-05-30T13:36:55.234929Z"
        },
        "trusted": true,
        "id": "_yeEL8yxp1nc",
        "colab": {
          "base_uri": "https://localhost:8080/",
          "height": 180
        },
        "outputId": "84e2d3de-23e5-407b-b088-bf5617fcbc57"
      },
      "execution_count": null,
      "outputs": [
        {
          "output_type": "display_data",
          "data": {
            "text/plain": [
              "<Figure size 2000x1000 with 4 Axes>"
            ],
            "image/png": "[encoded data removed]"
          },
          "metadata": {}
        }
      ]
    },
    {
      "cell_type": "markdown",
      "source": [
        "**Normalization**"
      ],
      "metadata": {
        "_uuid": "a4f73e65842423bae7cfce945cd4dc0e367c180a",
        "id": "_MyDZGckp1nc"
      }
    },
    {
      "cell_type": "code",
      "source": [
        "mean = np.mean(X_train)\n",
        "std = np.std(X_train)\n",
        "\n",
        "def standardize(x):\n",
        "    return (X - mean) / std # Normalize x using mean and std"
      ],
      "metadata": {
        "_uuid": "82bddf135bfad1d3f91b52cd0cadb62e55db964b",
        "execution": {
          "iopub.status.busy": "2023-05-30T13:36:59.339191Z",
          "iopub.execute_input": "2023-05-30T13:36:59.339522Z",
          "iopub.status.idle": "2023-05-30T13:36:59.595246Z",
          "shell.execute_reply.started": "2023-05-30T13:36:59.339469Z",
          "shell.execute_reply": "2023-05-30T13:36:59.594446Z"
        },
        "trusted": true,
        "id": "ljKCdpNRp1nd"
      },
      "execution_count": null,
      "outputs": []
    },
    {
      "cell_type": "markdown",
      "source": [
        "# 3. CNN\n",
        "## 3.1 Define the model"
      ],
      "metadata": {
        "id": "hkZMrZTgp1nd"
      }
    },
    {
      "cell_type": "markdown",
      "source": [],
      "metadata": {
        "id": "p0H9fDmJp1nd"
      }
    },
    {
      "cell_type": "markdown",
      "source": [
        "**Model Definition**"
      ],
      "metadata": {
        "_uuid": "57904be2d2935cece025811c128ca6738cf86800",
        "id": "dI80Ue2xp1nd"
      }
    },
    {
      "cell_type": "code",
      "source": [
        "# Change the layers of the model\n",
        "# Add padding and strides wherever required\n",
        "\n",
        "model=Sequential()\n",
        "\n",
        "model.add(Conv2D(filters=64, kernel_size = (3,3), activation=\"relu\", padding=\"same\", input_shape=(28,28,1)))\n",
        "model.add(Conv2D(filters=64, kernel_size = (3,3), activation=\"relu\"))\n",
        "model.add(MaxPooling2D(pool_size=(2,2)))\n",
        "model.add(BatchNormalization())\n",
        "\n",
        "model.add(Conv2D(filters=128, kernel_size = (3,3), activation=\"relu\"))\n",
        "model.add(Conv2D(filters=128, kernel_size = (3,3), activation=\"relu\"))\n",
        "model.add(MaxPooling2D(pool_size=(2,2)))\n",
        "model.add(BatchNormalization())\n",
        "\n",
        "model.add(Conv2D(filters=256, kernel_size = (3,3), activation=\"relu\"))\n",
        "model.add(MaxPooling2D(pool_size=(2,2)))\n",
        "model.add(BatchNormalization())\n",
        "\n",
        "model.add(Flatten())\n",
        "model.add(Dense(512,activation=\"relu\"))\n",
        "\n",
        "model.add(Dense(10,activation=\"softmax\"))\n",
        "\n",
        "model.compile(loss=\"categorical_crossentropy\", optimizer=\"adam\", metrics=[\"accuracy\"])"
      ],
      "metadata": {
        "_uuid": "e935c979b0715a68bc8739e6a31f5d9a8189a750",
        "execution": {
          "iopub.status.busy": "2023-05-30T13:37:03.545614Z",
          "iopub.execute_input": "2023-05-30T13:37:03.545937Z",
          "iopub.status.idle": "2023-05-30T13:37:05.671867Z",
          "shell.execute_reply.started": "2023-05-30T13:37:03.545879Z",
          "shell.execute_reply": "2023-05-30T13:37:05.671134Z"
        },
        "trusted": true,
        "id": "eFoBK3uGp1nd",
        "colab": {
          "base_uri": "https://localhost:8080/"
        },
        "outputId": "3e61980c-347b-43a3-f0ad-7dee85d10ba4"
      },
      "execution_count": null,
      "outputs": [
        {
          "output_type": "stream",
          "name": "stderr",
          "text": [
            "/usr/local/lib/python3.12/dist-packages/keras/src/layers/convolutional/base_conv.py:113: UserWarning: Do not pass an `input_shape`/`input_dim` argument to a layer. When using Sequential models, prefer using an `Input(shape)` object as the first layer in the model instead.\n",
            "  super().__init__(activity_regularizer=activity_regularizer, **kwargs)\n"
          ]
        }
      ]
    },
    {
      "cell_type": "code",
      "source": [
        "model.summary()"
      ],
      "metadata": {
        "execution": {
          "iopub.status.busy": "2023-05-30T13:37:06.398974Z",
          "iopub.execute_input": "2023-05-30T13:37:06.399326Z",
          "iopub.status.idle": "2023-05-30T13:37:06.412585Z",
          "shell.execute_reply.started": "2023-05-30T13:37:06.399271Z",
          "shell.execute_reply": "2023-05-30T13:37:06.411233Z"
        },
        "trusted": true,
        "id": "1fPtpp92p1ne",
        "colab": {
          "base_uri": "https://localhost:8080/",
          "height": 625
        },
        "outputId": "a04a5fe2-f5e7-4422-e49f-3444b793ccf7"
      },
      "execution_count": null,
      "outputs": [
        {
          "output_type": "display_data",
          "data": {
            "text/plain": [
              "\u001b[1mModel: \"sequential\"\u001b[0m\n"
            ],
            "text/html": [
              "<pre style=\"white-space:pre;overflow-x:auto;line-height:normal;font-family:Menlo,'DejaVu Sans Mono',consolas,'Courier New',monospace\"><span style=\"font-weight: bold\">Model: \"sequential\"</span>\n",
              "</pre>\n"
            ]
          },
          "metadata": {}
        },
        {
          "output_type": "display_data",
          "data": {
            "text/plain": [
              "┏━━━━━━━━━━━━━━━━━━━━━━━━━━━━━━━━━┳━━━━━━━━━━━━━━━━━━━━━━━━┳━━━━━━━━━━━━━━━┓\n",
              "┃\u001b[1m \u001b[0m\u001b[1mLayer (type)                   \u001b[0m\u001b[1m \u001b[0m┃\u001b[1m \u001b[0m\u001b[1mOutput Shape          \u001b[0m\u001b[1m \u001b[0m┃\u001b[1m \u001b[0m\u001b[1m      Param #\u001b[0m\u001b[1m \u001b[0m┃\n",
              "┡━━━━━━━━━━━━━━━━━━━━━━━━━━━━━━━━━╇━━━━━━━━━━━━━━━━━━━━━━━━╇━━━━━━━━━━━━━━━┩\n",
              "│ conv2d (\u001b[38;5;33mConv2D\u001b[0m)                 │ (\u001b[38;5;45mNone\u001b[0m, \u001b[38;5;34m28\u001b[0m, \u001b[38;5;34m28\u001b[0m, \u001b[38;5;34m64\u001b[0m)     │           \u001b[38;5;34m640\u001b[0m │\n",
              "├─────────────────────────────────┼────────────────────────┼───────────────┤\n",
              "│ conv2d_1 (\u001b[38;5;33mConv2D\u001b[0m)               │ (\u001b[38;5;45mNone\u001b[0m, \u001b[38;5;34m26\u001b[0m, \u001b[38;5;34m26\u001b[0m, \u001b[38;5;34m64\u001b[0m)     │        \u001b[38;5;34m36,928\u001b[0m │\n",
              "├─────────────────────────────────┼────────────────────────┼───────────────┤\n",
              "│ max_pooling2d (\u001b[38;5;33mMaxPooling2D\u001b[0m)    │ (\u001b[38;5;45mNone\u001b[0m, \u001b[38;5;34m13\u001b[0m, \u001b[38;5;34m13\u001b[0m, \u001b[38;5;34m64\u001b[0m)     │             \u001b[38;5;34m0\u001b[0m │\n",
              "├─────────────────────────────────┼────────────────────────┼───────────────┤\n",
              "│ batch_normalization             │ (\u001b[38;5;45mNone\u001b[0m, \u001b[38;5;34m13\u001b[0m, \u001b[38;5;34m13\u001b[0m, \u001b[38;5;34m64\u001b[0m)     │           \u001b[38;5;34m256\u001b[0m │\n",
              "│ (\u001b[38;5;33mBatchNormalization\u001b[0m)            │                        │               │\n",
              "├─────────────────────────────────┼────────────────────────┼───────────────┤\n",
              "│ conv2d_2 (\u001b[38;5;33mConv2D\u001b[0m)               │ (\u001b[38;5;45mNone\u001b[0m, \u001b[38;5;34m11\u001b[0m, \u001b[38;5;34m11\u001b[0m, \u001b[38;5;34m128\u001b[0m)    │        \u001b[38;5;34m73,856\u001b[0m │\n",
              "├─────────────────────────────────┼────────────────────────┼───────────────┤\n",
              "│ conv2d_3 (\u001b[38;5;33mConv2D\u001b[0m)               │ (\u001b[38;5;45mNone\u001b[0m, \u001b[38;5;34m9\u001b[0m, \u001b[38;5;34m9\u001b[0m, \u001b[38;5;34m128\u001b[0m)      │       \u001b[38;5;34m147,584\u001b[0m │\n",
              "├─────────────────────────────────┼────────────────────────┼───────────────┤\n",
              "│ max_pooling2d_1 (\u001b[38;5;33mMaxPooling2D\u001b[0m)  │ (\u001b[38;5;45mNone\u001b[0m, \u001b[38;5;34m4\u001b[0m, \u001b[38;5;34m4\u001b[0m, \u001b[38;5;34m128\u001b[0m)      │             \u001b[38;5;34m0\u001b[0m │\n",
              "├─────────────────────────────────┼────────────────────────┼───────────────┤\n",
              "│ batch_normalization_1           │ (\u001b[38;5;45mNone\u001b[0m, \u001b[38;5;34m4\u001b[0m, \u001b[38;5;34m4\u001b[0m, \u001b[38;5;34m128\u001b[0m)      │           \u001b[38;5;34m512\u001b[0m │\n",
              "│ (\u001b[38;5;33mBatchNormalization\u001b[0m)            │                        │               │\n",
              "├─────────────────────────────────┼────────────────────────┼───────────────┤\n",
              "│ conv2d_4 (\u001b[38;5;33mConv2D\u001b[0m)               │ (\u001b[38;5;45mNone\u001b[0m, \u001b[38;5;34m2\u001b[0m, \u001b[38;5;34m2\u001b[0m, \u001b[38;5;34m256\u001b[0m)      │       \u001b[38;5;34m295,168\u001b[0m │\n",
              "├─────────────────────────────────┼────────────────────────┼───────────────┤\n",
              "│ max_pooling2d_2 (\u001b[38;5;33mMaxPooling2D\u001b[0m)  │ (\u001b[38;5;45mNone\u001b[0m, \u001b[38;5;34m1\u001b[0m, \u001b[38;5;34m1\u001b[0m, \u001b[38;5;34m256\u001b[0m)      │             \u001b[38;5;34m0\u001b[0m │\n",
              "├─────────────────────────────────┼────────────────────────┼───────────────┤\n",
              "│ batch_normalization_2           │ (\u001b[38;5;45mNone\u001b[0m, \u001b[38;5;34m1\u001b[0m, \u001b[38;5;34m1\u001b[0m, \u001b[38;5;34m256\u001b[0m)      │         \u001b[38;5;34m1,024\u001b[0m │\n",
              "│ (\u001b[38;5;33mBatchNormalization\u001b[0m)            │                        │               │\n",
              "├─────────────────────────────────┼────────────────────────┼───────────────┤\n",
              "│ flatten (\u001b[38;5;33mFlatten\u001b[0m)               │ (\u001b[38;5;45mNone\u001b[0m, \u001b[38;5;34m256\u001b[0m)            │             \u001b[38;5;34m0\u001b[0m │\n",
              "├─────────────────────────────────┼────────────────────────┼───────────────┤\n",
              "│ dense (\u001b[38;5;33mDense\u001b[0m)                   │ (\u001b[38;5;45mNone\u001b[0m, \u001b[38;5;34m512\u001b[0m)            │       \u001b[38;5;34m131,584\u001b[0m │\n",
              "├─────────────────────────────────┼────────────────────────┼───────────────┤\n",
              "│ dense_1 (\u001b[38;5;33mDense\u001b[0m)                 │ (\u001b[38;5;45mNone\u001b[0m, \u001b[38;5;34m10\u001b[0m)             │         \u001b[38;5;34m5,130\u001b[0m │\n",
              "└─────────────────────────────────┴────────────────────────┴───────────────┘\n"
            ],
            "text/html": [
              "<pre style=\"white-space:pre;overflow-x:auto;line-height:normal;font-family:Menlo,'DejaVu Sans Mono',consolas,'Courier New',monospace\">┏━━━━━━━━━━━━━━━━━━━━━━━━━━━━━━━━━┳━━━━━━━━━━━━━━━━━━━━━━━━┳━━━━━━━━━━━━━━━┓\n",
              "┃<span style=\"font-weight: bold\"> Layer (type)                    </span>┃<span style=\"font-weight: bold\"> Output Shape           </span>┃<span style=\"font-weight: bold\">       Param # </span>┃\n",
              "┡━━━━━━━━━━━━━━━━━━━━━━━━━━━━━━━━━╇━━━━━━━━━━━━━━━━━━━━━━━━╇━━━━━━━━━━━━━━━┩\n",
              "│ conv2d (<span style=\"color: #0087ff; text-decoration-color: #0087ff\">Conv2D</span>)                 │ (<span style=\"color: #00d7ff; text-decoration-color: #00d7ff\">None</span>, <span style=\"color: #00af00; text-decoration-color: #00af00\">28</span>, <span style=\"color: #00af00; text-decoration-color: #00af00\">28</span>, <span style=\"color: #00af00; text-decoration-color: #00af00\">64</span>)     │           <span style=\"color: #00af00; text-decoration-color: #00af00\">640</span> │\n",
              "├─────────────────────────────────┼────────────────────────┼───────────────┤\n",
              "│ conv2d_1 (<span style=\"color: #0087ff; text-decoration-color: #0087ff\">Conv2D</span>)               │ (<span style=\"color: #00d7ff; text-decoration-color: #00d7ff\">None</span>, <span style=\"color: #00af00; text-decoration-color: #00af00\">26</span>, <span style=\"color: #00af00; text-decoration-color: #00af00\">26</span>, <span style=\"color: #00af00; text-decoration-color: #00af00\">64</span>)     │        <span style=\"color: #00af00; text-decoration-color: #00af00\">36,928</span> │\n",
              "├─────────────────────────────────┼────────────────────────┼───────────────┤\n",
              "│ max_pooling2d (<span style=\"color: #0087ff; text-decoration-color: #0087ff\">MaxPooling2D</span>)    │ (<span style=\"color: #00d7ff; text-decoration-color: #00d7ff\">None</span>, <span style=\"color: #00af00; text-decoration-color: #00af00\">13</span>, <span style=\"color: #00af00; text-decoration-color: #00af00\">13</span>, <span style=\"color: #00af00; text-decoration-color: #00af00\">64</span>)     │             <span style=\"color: #00af00; text-decoration-color: #00af00\">0</span> │\n",
              "├─────────────────────────────────┼────────────────────────┼───────────────┤\n",
              "│ batch_normalization             │ (<span style=\"color: #00d7ff; text-decoration-color: #00d7ff\">None</span>, <span style=\"color: #00af00; text-decoration-color: #00af00\">13</span>, <span style=\"color: #00af00; text-decoration-color: #00af00\">13</span>, <span style=\"color: #00af00; text-decoration-color: #00af00\">64</span>)     │           <span style=\"color: #00af00; text-decoration-color: #00af00\">256</span> │\n",
              "│ (<span style=\"color: #0087ff; text-decoration-color: #0087ff\">BatchNormalization</span>)            │                        │               │\n",
              "├─────────────────────────────────┼────────────────────────┼───────────────┤\n",
              "│ conv2d_2 (<span style=\"color: #0087ff; text-decoration-color: #0087ff\">Conv2D</span>)               │ (<span style=\"color: #00d7ff; text-decoration-color: #00d7ff\">None</span>, <span style=\"color: #00af00; text-decoration-color: #00af00\">11</span>, <span style=\"color: #00af00; text-decoration-color: #00af00\">11</span>, <span style=\"color: #00af00; text-decoration-color: #00af00\">128</span>)    │        <span style=\"color: #00af00; text-decoration-color: #00af00\">73,856</span> │\n",
              "├─────────────────────────────────┼────────────────────────┼───────────────┤\n",
              "│ conv2d_3 (<span style=\"color: #0087ff; text-decoration-color: #0087ff\">Conv2D</span>)               │ (<span style=\"color: #00d7ff; text-decoration-color: #00d7ff\">None</span>, <span style=\"color: #00af00; text-decoration-color: #00af00\">9</span>, <span style=\"color: #00af00; text-decoration-color: #00af00\">9</span>, <span style=\"color: #00af00; text-decoration-color: #00af00\">128</span>)      │       <span style=\"color: #00af00; text-decoration-color: #00af00\">147,584</span> │\n",
              "├─────────────────────────────────┼────────────────────────┼───────────────┤\n",
              "│ max_pooling2d_1 (<span style=\"color: #0087ff; text-decoration-color: #0087ff\">MaxPooling2D</span>)  │ (<span style=\"color: #00d7ff; text-decoration-color: #00d7ff\">None</span>, <span style=\"color: #00af00; text-decoration-color: #00af00\">4</span>, <span style=\"color: #00af00; text-decoration-color: #00af00\">4</span>, <span style=\"color: #00af00; text-decoration-color: #00af00\">128</span>)      │             <span style=\"color: #00af00; text-decoration-color: #00af00\">0</span> │\n",
              "├─────────────────────────────────┼────────────────────────┼───────────────┤\n",
              "│ batch_normalization_1           │ (<span style=\"color: #00d7ff; text-decoration-color: #00d7ff\">None</span>, <span style=\"color: #00af00; text-decoration-color: #00af00\">4</span>, <span style=\"color: #00af00; text-decoration-color: #00af00\">4</span>, <span style=\"color: #00af00; text-decoration-color: #00af00\">128</span>)      │           <span style=\"color: #00af00; text-decoration-color: #00af00\">512</span> │\n",
              "│ (<span style=\"color: #0087ff; text-decoration-color: #0087ff\">BatchNormalization</span>)            │                        │               │\n",
              "├─────────────────────────────────┼────────────────────────┼───────────────┤\n",
              "│ conv2d_4 (<span style=\"color: #0087ff; text-decoration-color: #0087ff\">Conv2D</span>)               │ (<span style=\"color: #00d7ff; text-decoration-color: #00d7ff\">None</span>, <span style=\"color: #00af00; text-decoration-color: #00af00\">2</span>, <span style=\"color: #00af00; text-decoration-color: #00af00\">2</span>, <span style=\"color: #00af00; text-decoration-color: #00af00\">256</span>)      │       <span style=\"color: #00af00; text-decoration-color: #00af00\">295,168</span> │\n",
              "├─────────────────────────────────┼────────────────────────┼───────────────┤\n",
              "│ max_pooling2d_2 (<span style=\"color: #0087ff; text-decoration-color: #0087ff\">MaxPooling2D</span>)  │ (<span style=\"color: #00d7ff; text-decoration-color: #00d7ff\">None</span>, <span style=\"color: #00af00; text-decoration-color: #00af00\">1</span>, <span style=\"color: #00af00; text-decoration-color: #00af00\">1</span>, <span style=\"color: #00af00; text-decoration-color: #00af00\">256</span>)      │             <span style=\"color: #00af00; text-decoration-color: #00af00\">0</span> │\n",
              "├─────────────────────────────────┼────────────────────────┼───────────────┤\n",
              "│ batch_normalization_2           │ (<span style=\"color: #00d7ff; text-decoration-color: #00d7ff\">None</span>, <span style=\"color: #00af00; text-decoration-color: #00af00\">1</span>, <span style=\"color: #00af00; text-decoration-color: #00af00\">1</span>, <span style=\"color: #00af00; text-decoration-color: #00af00\">256</span>)      │         <span style=\"color: #00af00; text-decoration-color: #00af00\">1,024</span> │\n",
              "│ (<span style=\"color: #0087ff; text-decoration-color: #0087ff\">BatchNormalization</span>)            │                        │               │\n",
              "├─────────────────────────────────┼────────────────────────┼───────────────┤\n",
              "│ flatten (<span style=\"color: #0087ff; text-decoration-color: #0087ff\">Flatten</span>)               │ (<span style=\"color: #00d7ff; text-decoration-color: #00d7ff\">None</span>, <span style=\"color: #00af00; text-decoration-color: #00af00\">256</span>)            │             <span style=\"color: #00af00; text-decoration-color: #00af00\">0</span> │\n",
              "├─────────────────────────────────┼────────────────────────┼───────────────┤\n",
              "│ dense (<span style=\"color: #0087ff; text-decoration-color: #0087ff\">Dense</span>)                   │ (<span style=\"color: #00d7ff; text-decoration-color: #00d7ff\">None</span>, <span style=\"color: #00af00; text-decoration-color: #00af00\">512</span>)            │       <span style=\"color: #00af00; text-decoration-color: #00af00\">131,584</span> │\n",
              "├─────────────────────────────────┼────────────────────────┼───────────────┤\n",
              "│ dense_1 (<span style=\"color: #0087ff; text-decoration-color: #0087ff\">Dense</span>)                 │ (<span style=\"color: #00d7ff; text-decoration-color: #00d7ff\">None</span>, <span style=\"color: #00af00; text-decoration-color: #00af00\">10</span>)             │         <span style=\"color: #00af00; text-decoration-color: #00af00\">5,130</span> │\n",
              "└─────────────────────────────────┴────────────────────────┴───────────────┘\n",
              "</pre>\n"
            ]
          },
          "metadata": {}
        },
        {
          "output_type": "display_data",
          "data": {
            "text/plain": [
              "\u001b[1m Total params: \u001b[0m\u001b[38;5;34m692,682\u001b[0m (2.64 MB)\n"
            ],
            "text/html": [
              "<pre style=\"white-space:pre;overflow-x:auto;line-height:normal;font-family:Menlo,'DejaVu Sans Mono',consolas,'Courier New',monospace\"><span style=\"font-weight: bold\"> Total params: </span><span style=\"color: #00af00; text-decoration-color: #00af00\">692,682</span> (2.64 MB)\n",
              "</pre>\n"
            ]
          },
          "metadata": {}
        },
        {
          "output_type": "display_data",
          "data": {
            "text/plain": [
              "\u001b[1m Trainable params: \u001b[0m\u001b[38;5;34m691,786\u001b[0m (2.64 MB)\n"
            ],
            "text/html": [
              "<pre style=\"white-space:pre;overflow-x:auto;line-height:normal;font-family:Menlo,'DejaVu Sans Mono',consolas,'Courier New',monospace\"><span style=\"font-weight: bold\"> Trainable params: </span><span style=\"color: #00af00; text-decoration-color: #00af00\">691,786</span> (2.64 MB)\n",
              "</pre>\n"
            ]
          },
          "metadata": {}
        },
        {
          "output_type": "display_data",
          "data": {
            "text/plain": [
              "\u001b[1m Non-trainable params: \u001b[0m\u001b[38;5;34m896\u001b[0m (3.50 KB)\n"
            ],
            "text/html": [
              "<pre style=\"white-space:pre;overflow-x:auto;line-height:normal;font-family:Menlo,'DejaVu Sans Mono',consolas,'Courier New',monospace\"><span style=\"font-weight: bold\"> Non-trainable params: </span><span style=\"color: #00af00; text-decoration-color: #00af00\">896</span> (3.50 KB)\n",
              "</pre>\n"
            ]
          },
          "metadata": {}
        }
      ]
    },
    {
      "cell_type": "markdown",
      "source": [
        "## 3.3 Model training"
      ],
      "metadata": {
        "_uuid": "5a9a1f37ef33b24887f97e7992b7d24567602eb8",
        "id": "FY_R4fpXp1nf"
      }
    },
    {
      "cell_type": "code",
      "source": [
        "model.fit(X, y, batch_size=128, validation_split=0.2, epochs=10) # Change the batch_size and epochs\n",
        "# Number of images in X = 42000\n",
        "# Validation split = 20%, so the number of images undergoing training = 80% * 42000 = 33600 = 263 * 128"
      ],
      "metadata": {
        "execution": {
          "iopub.status.busy": "2023-05-30T13:37:45.843235Z",
          "iopub.execute_input": "2023-05-30T13:37:45.843554Z",
          "iopub.status.idle": "2023-05-30T13:38:29.115977Z",
          "shell.execute_reply.started": "2023-05-30T13:37:45.843496Z",
          "shell.execute_reply": "2023-05-30T13:38:29.115291Z"
        },
        "trusted": true,
        "id": "cCT1Sbqrp1nf",
        "colab": {
          "base_uri": "https://localhost:8080/"
        },
        "outputId": "6a434074-7418-4995-af2b-9cb07d281aa3"
      },
      "execution_count": null,
      "outputs": [
        {
          "output_type": "stream",
          "name": "stdout",
          "text": [
            "Epoch 1/10\n",
            "\u001b[1m263/263\u001b[0m \u001b[32m━━━━━━━━━━━━━━━━━━━━\u001b[0m\u001b[37m\u001b[0m \u001b[1m314s\u001b[0m 1s/step - accuracy: 0.9970 - loss: 0.0096 - val_accuracy: 0.9913 - val_loss: 0.0432\n",
            "Epoch 2/10\n",
            "\u001b[1m263/263\u001b[0m \u001b[32m━━━━━━━━━━━━━━━━━━━━\u001b[0m\u001b[37m\u001b[0m \u001b[1m317s\u001b[0m 1s/step - accuracy: 0.9979 - loss: 0.0062 - val_accuracy: 0.9929 - val_loss: 0.0377\n",
            "Epoch 3/10\n",
            "\u001b[1m263/263\u001b[0m \u001b[32m━━━━━━━━━━━━━━━━━━━━\u001b[0m\u001b[37m\u001b[0m \u001b[1m302s\u001b[0m 1s/step - accuracy: 0.9992 - loss: 0.0021 - val_accuracy: 0.9881 - val_loss: 0.0590\n",
            "Epoch 4/10\n",
            "\u001b[1m263/263\u001b[0m \u001b[32m━━━━━━━━━━━━━━━━━━━━\u001b[0m\u001b[37m\u001b[0m \u001b[1m304s\u001b[0m 1s/step - accuracy: 0.9960 - loss: 0.0119 - val_accuracy: 0.9887 - val_loss: 0.0608\n",
            "Epoch 5/10\n",
            "\u001b[1m263/263\u001b[0m \u001b[32m━━━━━━━━━━━━━━━━━━━━\u001b[0m\u001b[37m\u001b[0m \u001b[1m312s\u001b[0m 1s/step - accuracy: 0.9961 - loss: 0.0142 - val_accuracy: 0.9908 - val_loss: 0.0522\n",
            "Epoch 6/10\n",
            "\u001b[1m263/263\u001b[0m \u001b[32m━━━━━━━━━━━━━━━━━━━━\u001b[0m\u001b[37m\u001b[0m \u001b[1m311s\u001b[0m 1s/step - accuracy: 0.9970 - loss: 0.0099 - val_accuracy: 0.9899 - val_loss: 0.0609\n",
            "Epoch 7/10\n",
            "\u001b[1m263/263\u001b[0m \u001b[32m━━━━━━━━━━━━━━━━━━━━\u001b[0m\u001b[37m\u001b[0m \u001b[1m329s\u001b[0m 1s/step - accuracy: 0.9975 - loss: 0.0075 - val_accuracy: 0.9917 - val_loss: 0.0598\n",
            "Epoch 8/10\n",
            "\u001b[1m263/263\u001b[0m \u001b[32m━━━━━━━━━━━━━━━━━━━━\u001b[0m\u001b[37m\u001b[0m \u001b[1m313s\u001b[0m 1s/step - accuracy: 0.9981 - loss: 0.0059 - val_accuracy: 0.9895 - val_loss: 0.0751\n",
            "Epoch 9/10\n",
            "\u001b[1m263/263\u001b[0m \u001b[32m━━━━━━━━━━━━━━━━━━━━\u001b[0m\u001b[37m\u001b[0m \u001b[1m323s\u001b[0m 1s/step - accuracy: 0.9983 - loss: 0.0048 - val_accuracy: 0.9912 - val_loss: 0.0518\n",
            "Epoch 10/10\n",
            "\u001b[1m263/263\u001b[0m \u001b[32m━━━━━━━━━━━━━━━━━━━━\u001b[0m\u001b[37m\u001b[0m \u001b[1m307s\u001b[0m 1s/step - accuracy: 0.9980 - loss: 0.0061 - val_accuracy: 0.9917 - val_loss: 0.0534\n"
          ]
        },
        {
          "output_type": "execute_result",
          "data": {
            "text/plain": [
              "<keras.src.callbacks.history.History at 0x7ba7c81252e0>"
            ]
          },
          "metadata": {},
          "execution_count": 15
        }
      ]
    },
    {
      "cell_type": "markdown",
      "source": [
        "## 4.2 Confusion matrix"
      ],
      "metadata": {
        "id": "487sAxmxp1ns"
      }
    },
    {
      "cell_type": "code",
      "source": [
        "fig = plt.figure(figsize=(10, 10)) # Set Figure\n",
        "\n",
        "y_pred = model.predict(X_val) # Predict class probabilities as 2 => [0.1, 0, 0.9, 0, 0, 0, 0, 0, 0, 0]\n",
        "\n",
        "Y_pred = np.argmax(y_pred, 1) # Decode Predicted labels\n",
        "Y_test = np.argmax(y_val, 1) # Decode labels\n",
        "\n",
        "mat = confusion_matrix(Y_test, Y_pred) # Confusion matrix\n",
        "\n",
        "# Plot Confusion matrix\n",
        "sns.heatmap(mat.T, square=True, annot=True, cbar=False, cmap=plt.cm.Blues, fmt='.0f')\n",
        "plt.xlabel('Predicted Values')\n",
        "plt.ylabel('True Values');\n",
        "plt.show();"
      ],
      "metadata": {
        "execution": {
          "iopub.status.busy": "2023-05-30T13:40:11.698887Z",
          "iopub.execute_input": "2023-05-30T13:40:11.699266Z",
          "iopub.status.idle": "2023-05-30T13:40:12.734065Z",
          "shell.execute_reply.started": "2023-05-30T13:40:11.699203Z",
          "shell.execute_reply": "2023-05-30T13:40:12.733311Z"
        },
        "trusted": true,
        "id": "xjjyQgq7p1ns",
        "colab": {
          "base_uri": "https://localhost:8080/",
          "height": 679
        },
        "outputId": "60f9310e-d6a8-4728-82a0-0426ab9508d1"
      },
      "execution_count": null,
      "outputs": [
        {
          "output_type": "stream",
          "name": "stdout",
          "text": [
            "\u001b[1m132/132\u001b[0m \u001b[32m━━━━━━━━━━━━━━━━━━━━\u001b[0m\u001b[37m\u001b[0m \u001b[1m18s\u001b[0m 125ms/step\n"
          ]
        },
        {
          "output_type": "display_data",
          "data": {
            "text/plain": [
              "<Figure size 1000x1000 with 1 Axes>"
            ],
            "image/png": "[encoded data removed]"
          },
          "metadata": {}
        }
      ]
    },
    {
      "cell_type": "markdown",
      "source": [
        "# 5. Prediction and submission\n",
        "\n",
        "\n"
      ],
      "metadata": {
        "id": "CB3OhcGhp1nt"
      }
    },
    {
      "cell_type": "markdown",
      "source": [
        "## 5.1 Prediction validation results"
      ],
      "metadata": {
        "id": "YY4ZwwcAp1nt"
      }
    },
    {
      "cell_type": "code",
      "source": [
        "y_pred = model.predict(X_val)\n",
        "X_val__ = X_val.reshape(X_val.shape[0], 28, 28)\n",
        "\n",
        "fig, axis = plt.subplots(4, 4, figsize=(12, 14))\n",
        "for i, ax in enumerate(axis.flat):\n",
        "    ax.imshow(X_val__[i], cmap='binary')\n",
        "    ax.set(title = f\"Real Number is {y_val[i].argmax()}\\nPredict Number is {y_pred[i].argmax()}\");"
      ],
      "metadata": {
        "execution": {
          "iopub.status.busy": "2023-05-30T13:40:17.596620Z",
          "iopub.execute_input": "2023-05-30T13:40:17.596966Z",
          "iopub.status.idle": "2023-05-30T13:40:20.645239Z",
          "shell.execute_reply.started": "2023-05-30T13:40:17.596905Z",
          "shell.execute_reply": "2023-05-30T13:40:20.644132Z"
        },
        "trusted": true,
        "id": "ph8MbAPXp1nt",
        "colab": {
          "base_uri": "https://localhost:8080/",
          "height": 781
        },
        "outputId": "7455f523-36cd-465f-bcf2-9d094e0738ea"
      },
      "execution_count": null,
      "outputs": [
        {
          "output_type": "stream",
          "name": "stdout",
          "text": [
            "\u001b[1m132/132\u001b[0m \u001b[32m━━━━━━━━━━━━━━━━━━━━\u001b[0m\u001b[37m\u001b[0m \u001b[1m9s\u001b[0m 70ms/step\n"
          ]
        },
        {
          "output_type": "display_data",
          "data": {
            "text/plain": [
              "<Figure size 1200x1400 with 16 Axes>"
            ],
            "image/png": "[encoded data removed]"
          },
          "metadata": {}
        }
      ]
    },
    {
      "cell_type": "markdown",
      "source": [
        "## 5.2 Submission"
      ],
      "metadata": {
        "id": "eLJZsp2Xp1nt"
      }
    },
    {
      "cell_type": "code",
      "source": [
        "# preprocess test data\n",
        "test_x = test.values\n",
        "test_x =test_x/255.0 # Normalize the activation values from [0,255] to [0,1]\n",
        "test_x = test_x.reshape(-1,28,28,1) # Reshape the test data from 3 RGB channels to a single grayscale channel\n",
        "\n",
        "# predict test data\n",
        "#pred = model.predict_classes(test_x, verbose=1)\n",
        "pred = model.predict(test_x)\n",
        "classes_x = np.argmax(pred, axis=1)"
      ],
      "metadata": {
        "_uuid": "afcacfa4a023a9e01a61b5d7dcd051f0a439fa38",
        "execution": {
          "iopub.status.busy": "2023-05-30T13:40:24.562230Z",
          "iopub.execute_input": "2023-05-30T13:40:24.562570Z",
          "iopub.status.idle": "2023-05-30T13:40:26.270899Z",
          "shell.execute_reply.started": "2023-05-30T13:40:24.562508Z",
          "shell.execute_reply": "2023-05-30T13:40:26.270114Z"
        },
        "trusted": true,
        "id": "_Z2msJpfp1nu",
        "colab": {
          "base_uri": "https://localhost:8080/"
        },
        "outputId": "b4c5a696-20e2-4a9d-9d51-68b9ef8d380e"
      },
      "execution_count": null,
      "outputs": [
        {
          "output_type": "stream",
          "name": "stdout",
          "text": [
            "\u001b[1m875/875\u001b[0m \u001b[32m━━━━━━━━━━━━━━━━━━━━\u001b[0m\u001b[37m\u001b[0m \u001b[1m65s\u001b[0m 74ms/step\n"
          ]
        }
      ]
    },
    {
      "cell_type": "code",
      "source": [
        "# submissions\n",
        "sub['Label'] = pred\n",
        "sub.to_csv(\"CNN_keras_sub.csv\", index=False)\n",
        "sub.head()"
      ],
      "metadata": {
        "execution": {
          "iopub.status.busy": "2023-05-30T13:40:29.474277Z",
          "iopub.execute_input": "2023-05-30T13:40:29.474616Z",
          "iopub.status.idle": "2023-05-30T13:40:29.785340Z",
          "shell.execute_reply.started": "2023-05-30T13:40:29.474556Z",
          "shell.execute_reply": "2023-05-30T13:40:29.783507Z"
        },
        "trusted": true,
        "id": "01if6yhqp1nu",
        "colab": {
          "base_uri": "https://localhost:8080/",
          "height": 206
        },
        "outputId": "8fca2da3-ccb6-470f-82af-fcbe71dc7b04"
      },
      "execution_count": null,
      "outputs": [
        {
          "output_type": "execute_result",
          "data": {
            "text/plain": [
              "   ImageId         Label\n",
              "0        1  5.297814e-09\n",
              "1        2  5.283062e-09\n",
              "2        3  5.158309e-09\n",
              "3        4  5.271295e-09\n",
              "4        5  5.246400e-09"
            ],
            "text/html": [
              "\n",
              "  <div id=\"df-2047432b-c956-4551-9a8a-86427125ffe9\" class=\"colab-df-container\">\n",
              "    <div>\n",
              "<style scoped>\n",
              "    .dataframe tbody tr th:only-of-type {\n",
              "        vertical-align: middle;\n",
              "    }\n",
              "\n",
              "    .dataframe tbody tr th {\n",
              "        vertical-align: top;\n",
              "    }\n",
              "\n",
              "    .dataframe thead th {\n",
              "        text-align: right;\n",
              "    }\n",
              "</style>\n",
              "<table border=\"1\" class=\"dataframe\">\n",
              "  <thead>\n",
              "    <tr style=\"text-align: right;\">\n",
              "      <th></th>\n",
              "      <th>ImageId</th>\n",
              "      <th>Label</th>\n",
              "    </tr>\n",
              "  </thead>\n",
              "  <tbody>\n",
              "    <tr>\n",
              "      <th>0</th>\n",
              "      <td>1</td>\n",
              "      <td>5.297814e-09</td>\n",
              "    </tr>\n",
              "    <tr>\n",
              "      <th>1</th>\n",
              "      <td>2</td>\n",
              "      <td>5.283062e-09</td>\n",
              "    </tr>\n",
              "    <tr>\n",
              "      <th>2</th>\n",
              "      <td>3</td>\n",
              "      <td>5.158309e-09</td>\n",
              "    </tr>\n",
              "    <tr>\n",
              "      <th>3</th>\n",
              "      <td>4</td>\n",
              "      <td>5.271295e-09</td>\n",
              "    </tr>\n",
              "    <tr>\n",
              "      <th>4</th>\n",
              "      <td>5</td>\n",
              "      <td>5.246400e-09</td>\n",
              "    </tr>\n",
              "  </tbody>\n",
              "</table>\n",
              "</div>\n",
              "    <div class=\"colab-df-buttons\">\n",
              "\n",
              "  <div class=\"colab-df-container\">\n",
              "    <button class=\"colab-df-convert\" onclick=\"convertToInteractive('df-2047432b-c956-4551-9a8a-86427125ffe9')\"\n",
              "            title=\"Convert this dataframe to an interactive table.\"\n",
              "            style=\"display:none;\">\n",
              "\n",
              "  <svg xmlns=\"http://www.w3.org/2000/svg\" height=\"24px\" viewBox=\"0 -960 960 960\">\n",
              "    <path d=\"M120-120v-720h720v720H120Zm60-500h600v-160H180v160Zm220 220h160v-160H400v160Zm0 220h160v-160H400v160ZM180-400h160v-160H180v160Zm440 0h160v-160H620v160ZM180-180h160v-160H180v160Zm440 0h160v-160H620v160Z\"/>\n",
              "  </svg>\n",
              "    </button>\n",
              "\n",
              "  <style>\n",
              "    .colab-df-container {\n",
              "      display:flex;\n",
              "      gap: 12px;\n",
              "    }\n",
              "\n",
              "    .colab-df-convert {\n",
              "      background-color: #E8F0FE;\n",
              "      border: none;\n",
              "      border-radius: 50%;\n",
              "      cursor: pointer;\n",
              "      display: none;\n",
              "      fill: #1967D2;\n",
              "      height: 32px;\n",
              "      padding: 0 0 0 0;\n",
              "      width: 32px;\n",
              "    }\n",
              "\n",
              "    .colab-df-convert:hover {\n",
              "      background-color: #E2EBFA;\n",
              "      box-shadow: 0px 1px 2px rgba(60, 64, 67, 0.3), 0px 1px 3px 1px rgba(60, 64, 67, 0.15);\n",
              "      fill: #174EA6;\n",
              "    }\n",
              "\n",
              "    .colab-df-buttons div {\n",
              "      margin-bottom: 4px;\n",
              "    }\n",
              "\n",
              "    [theme=dark] .colab-df-convert {\n",
              "      background-color: #3B4455;\n",
              "      fill: #D2E3FC;\n",
              "    }\n",
              "\n",
              "    [theme=dark] .colab-df-convert:hover {\n",
              "      background-color: #434B5C;\n",
              "      box-shadow: 0px 1px 3px 1px rgba(0, 0, 0, 0.15);\n",
              "      filter: drop-shadow(0px 1px 2px rgba(0, 0, 0, 0.3));\n",
              "      fill: #FFFFFF;\n",
              "    }\n",
              "  </style>\n",
              "\n",
              "    <script>\n",
              "      const buttonEl =\n",
              "        document.querySelector('#df-2047432b-c956-4551-9a8a-86427125ffe9 button.colab-df-convert');\n",
              "      buttonEl.style.display =\n",
              "        google.colab.kernel.accessAllowed ? 'block' : 'none';\n",
              "\n",
              "      async function convertToInteractive(key) {\n",
              "        const element = document.querySelector('#df-2047432b-c956-4551-9a8a-86427125ffe9');\n",
              "        const dataTable =\n",
              "          await google.colab.kernel.invokeFunction('convertToInteractive',\n",
              "                                                    [key], {});\n",
              "        if (!dataTable) return;\n",
              "\n",
              "        const docLinkHtml = 'Like what you see? Visit the ' +\n",
              "          '<a target=\"_blank\" href=https://colab.research.google.com/notebooks/data_table.ipynb>data table notebook</a>'\n",
              "          + ' to learn more about interactive tables.';\n",
              "        element.innerHTML = '';\n",
              "        dataTable['output_type'] = 'display_data';\n",
              "        await google.colab.output.renderOutput(dataTable, element);\n",
              "        const docLink = document.createElement('div');\n",
              "        docLink.innerHTML = docLinkHtml;\n",
              "        element.appendChild(docLink);\n",
              "      }\n",
              "    </script>\n",
              "  </div>\n",
              "\n",
              "\n",
              "    <div id=\"df-1397f9d5-28ba-4445-bc90-fd86cc3b64eb\">\n",
              "      <button class=\"colab-df-quickchart\" onclick=\"quickchart('df-1397f9d5-28ba-4445-bc90-fd86cc3b64eb')\"\n",
              "                title=\"Suggest charts\"\n",
              "                style=\"display:none;\">\n",
              "\n",
              "<svg xmlns=\"http://www.w3.org/2000/svg\" height=\"24px\"viewBox=\"0 0 24 24\"\n",
              "     width=\"24px\">\n",
              "    <g>\n",
              "        <path d=\"M19 3H5c-1.1 0-2 .9-2 2v14c0 1.1.9 2 2 2h14c1.1 0 2-.9 2-2V5c0-1.1-.9-2-2-2zM9 17H7v-7h2v7zm4 0h-2V7h2v10zm4 0h-2v-4h2v4z\"/>\n",
              "    </g>\n",
              "</svg>\n",
              "      </button>\n",
              "\n",
              "<style>\n",
              "  .colab-df-quickchart {\n",
              "      --bg-color: #E8F0FE;\n",
              "      --fill-color: #1967D2;\n",
              "      --hover-bg-color: #E2EBFA;\n",
              "      --hover-fill-color: #174EA6;\n",
              "      --disabled-fill-color: #AAA;\n",
              "      --disabled-bg-color: #DDD;\n",
              "  }\n",
              "\n",
              "  [theme=dark] .colab-df-quickchart {\n",
              "      --bg-color: #3B4455;\n",
              "      --fill-color: #D2E3FC;\n",
              "      --hover-bg-color: #434B5C;\n",
              "      --hover-fill-color: #FFFFFF;\n",
              "      --disabled-bg-color: #3B4455;\n",
              "      --disabled-fill-color: #666;\n",
              "  }\n",
              "\n",
              "  .colab-df-quickchart {\n",
              "    background-color: var(--bg-color);\n",
              "    border: none;\n",
              "    border-radius: 50%;\n",
              "    cursor: pointer;\n",
              "    display: none;\n",
              "    fill: var(--fill-color);\n",
              "    height: 32px;\n",
              "    padding: 0;\n",
              "    width: 32px;\n",
              "  }\n",
              "\n",
              "  .colab-df-quickchart:hover {\n",
              "    background-color: var(--hover-bg-color);\n",
              "    box-shadow: 0 1px 2px rgba(60, 64, 67, 0.3), 0 1px 3px 1px rgba(60, 64, 67, 0.15);\n",
              "    fill: var(--button-hover-fill-color);\n",
              "  }\n",
              "\n",
              "  .colab-df-quickchart-complete:disabled,\n",
              "  .colab-df-quickchart-complete:disabled:hover {\n",
              "    background-color: var(--disabled-bg-color);\n",
              "    fill: var(--disabled-fill-color);\n",
              "    box-shadow: none;\n",
              "  }\n",
              "\n",
              "  .colab-df-spinner {\n",
              "    border: 2px solid var(--fill-color);\n",
              "    border-color: transparent;\n",
              "    border-bottom-color: var(--fill-color);\n",
              "    animation:\n",
              "      spin 1s steps(1) infinite;\n",
              "  }\n",
              "\n",
              "  @keyframes spin {\n",
              "    0% {\n",
              "      border-color: transparent;\n",
              "      border-bottom-color: var(--fill-color);\n",
              "      border-left-color: var(--fill-color);\n",
              "    }\n",
              "    20% {\n",
              "      border-color: transparent;\n",
              "      border-left-color: var(--fill-color);\n",
              "      border-top-color: var(--fill-color);\n",
              "    }\n",
              "    30% {\n",
              "      border-color: transparent;\n",
              "      border-left-color: var(--fill-color);\n",
              "      border-top-color: var(--fill-color);\n",
              "      border-right-color: var(--fill-color);\n",
              "    }\n",
              "    40% {\n",
              "      border-color: transparent;\n",
              "      border-right-color: var(--fill-color);\n",
              "      border-top-color: var(--fill-color);\n",
              "    }\n",
              "    60% {\n",
              "      border-color: transparent;\n",
              "      border-right-color: var(--fill-color);\n",
              "    }\n",
              "    80% {\n",
              "      border-color: transparent;\n",
              "      border-right-color: var(--fill-color);\n",
              "      border-bottom-color: var(--fill-color);\n",
              "    }\n",
              "    90% {\n",
              "      border-color: transparent;\n",
              "      border-bottom-color: var(--fill-color);\n",
              "    }\n",
              "  }\n",
              "</style>\n",
              "\n",
              "      <script>\n",
              "        async function quickchart(key) {\n",
              "          const quickchartButtonEl =\n",
              "            document.querySelector('#' + key + ' button');\n",
              "          quickchartButtonEl.disabled = true;  // To prevent multiple clicks.\n",
              "          quickchartButtonEl.classList.add('colab-df-spinner');\n",
              "          try {\n",
              "            const charts = await google.colab.kernel.invokeFunction(\n",
              "                'suggestCharts', [key], {});\n",
              "          } catch (error) {\n",
              "            console.error('Error during call to suggestCharts:', error);\n",
              "          }\n",
              "          quickchartButtonEl.classList.remove('colab-df-spinner');\n",
              "          quickchartButtonEl.classList.add('colab-df-quickchart-complete');\n",
              "        }\n",
              "        (() => {\n",
              "          let quickchartButtonEl =\n",
              "            document.querySelector('#df-1397f9d5-28ba-4445-bc90-fd86cc3b64eb button');\n",
              "          quickchartButtonEl.style.display =\n",
              "            google.colab.kernel.accessAllowed ? 'block' : 'none';\n",
              "        })();\n",
              "      </script>\n",
              "    </div>\n",
              "\n",
              "    </div>\n",
              "  </div>\n"
            ],
            "application/vnd.google.colaboratory.intrinsic+json": {
              "type": "dataframe",
              "variable_name": "sub",
              "summary": "{\n  \"name\": \"sub\",\n  \"rows\": 28000,\n  \"fields\": [\n    {\n      \"column\": \"ImageId\",\n      \"properties\": {\n        \"dtype\": \"number\",\n        \"std\": 8083,\n        \"min\": 1,\n        \"max\": 28000,\n        \"num_unique_values\": 28000,\n        \"samples\": [\n          18407,\n          5035,\n          18326\n        ],\n        \"semantic_type\": \"\",\n        \"description\": \"\"\n      }\n    },\n    {\n      \"column\": \"Label\",\n      \"properties\": {\n        \"dtype\": \"float32\",\n        \"num_unique_values\": 20854,\n        \"samples\": [\n          5.586830553738764e-09,\n          5.033303107637721e-09,\n          5.270470726514986e-09\n        ],\n        \"semantic_type\": \"\",\n        \"description\": \"\"\n      }\n    }\n  ]\n}"
            }
          },
          "metadata": {},
          "execution_count": 19
        }
      ]
    }
  ]
}